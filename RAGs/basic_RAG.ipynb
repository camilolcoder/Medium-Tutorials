{
 "cells": [
  {
   "cell_type": "code",
   "execution_count": 24,
   "metadata": {},
   "outputs": [],
   "source": [
    "from pinecone import Pinecone\n",
    "import openai\n",
    "\n",
    "import tiktoken  # To properly count tokens\n",
    "from typing import List\n",
    "\n",
    "import fitz  # PyMuPDF\n",
    "\n",
    "import time\n",
    "\n",
    "import os\n",
    "import sys\n",
    "project_root = os.path.abspath(os.path.join(os.getcwd(), \"../\"))\n",
    "sys.path.append(project_root)\n",
    "import keys"
   ]
  },
  {
   "cell_type": "code",
   "execution_count": 6,
   "metadata": {},
   "outputs": [],
   "source": [
    "os.environ[\"OPENAI_API_KEY\"] = keys.OPEN_AI_API_KEY"
   ]
  },
  {
   "cell_type": "code",
   "execution_count": 12,
   "metadata": {},
   "outputs": [],
   "source": [
    "# Initialize Pinecone\n",
    "pc = Pinecone(api_key=keys.PINECONE_KEY)\n",
    "\n",
    "# Connect to your existing index\n",
    "index = pc.Index(\"rag-demo\")"
   ]
  },
  {
   "cell_type": "code",
   "execution_count": 9,
   "metadata": {},
   "outputs": [],
   "source": [
    "def extract_text_from_pdf(pdf_path):\n",
    "    \"\"\"Extracts text from a PDF file.\"\"\"\n",
    "    text = \"\"\n",
    "    with fitz.open(pdf_path) as doc:\n",
    "        for page in doc:\n",
    "            text += page.get_text(\"text\") + \"\\n\\n\"  # Extract text page by page\n",
    "    return text"
   ]
  },
  {
   "cell_type": "code",
   "execution_count": 11,
   "metadata": {},
   "outputs": [
    {
     "name": "stdout",
     "output_type": "stream",
     "text": [
      "📖 Extracting text from PDF: 32624-pdf.pdf\n",
      "📄 Processed 1067 text chunks from 1 documents.\n"
     ]
    }
   ],
   "source": [
    "tokenizer = tiktoken.get_encoding(\"cl100k_base\")\n",
    "\n",
    "def tokenize_text(text: str) -> List[str]:\n",
    "    \"\"\"Tokenizes a text and returns a list of tokens.\"\"\"\n",
    "    return tokenizer.encode(text)\n",
    "\n",
    "def chunk_text(text: str, chunk_size=300, overlap=50) -> List[str]:\n",
    "    \"\"\"Splits a document into overlapping chunks.\"\"\"\n",
    "    tokens = tokenize_text(text)\n",
    "    chunks = []\n",
    "    \n",
    "    for i in range(0, len(tokens), chunk_size - overlap):\n",
    "        chunk = tokens[i:i + chunk_size]\n",
    "        chunks.append(tokenizer.decode(chunk))  # Convert tokens back to text\n",
    "    \n",
    "    return chunks\n",
    "\n",
    "# def load_and_chunk_docs(folder_path: str) -> List[str]:\n",
    "#     \"\"\"Loads all text files from a folder, chunks them, and returns a list of chunks.\"\"\"\n",
    "#     text_chunks = []\n",
    "    \n",
    "#     for filename in os.listdir(folder_path):\n",
    "#         if filename.endswith(\".txt\"):  # Ensure we're only processing text files\n",
    "#             with open(os.path.join(folder_path, filename), \"r\", encoding=\"utf-8\") as file:\n",
    "#                 text = file.read()\n",
    "#                 chunks = chunk_text(text)  # Apply chunking\n",
    "#                 text_chunks.extend(chunks)  # Store all chunks\n",
    "                \n",
    "#     return text_chunks\n",
    "\n",
    "def load_and_chunk_docs(folder_path: str):\n",
    "    \"\"\"Loads and chunks text from PDF or TXT files in the docs folder.\"\"\"\n",
    "    text_chunks = []\n",
    "\n",
    "    for filename in os.listdir(folder_path):\n",
    "        file_path = os.path.join(folder_path, filename)\n",
    "\n",
    "        if filename.endswith(\".pdf\"):  # Process PDF\n",
    "            print(f\"📖 Extracting text from PDF: {filename}\")\n",
    "            text = extract_text_from_pdf(file_path)\n",
    "        elif filename.endswith(\".txt\"):  # Process TXT\n",
    "            print(f\"📄 Loading text file: {filename}\")\n",
    "            with open(file_path, \"r\", encoding=\"utf-8\") as file:\n",
    "                text = file.read()\n",
    "        else:\n",
    "            continue  # Skip other file types\n",
    "        \n",
    "        # Apply chunking to the extracted text\n",
    "        chunks = chunk_text(text)\n",
    "        text_chunks.extend(chunks)\n",
    "\n",
    "    return text_chunks\n",
    "\n",
    "# Load and process all .txt files in the \"docs\" folder\n",
    "folder_path = \"docs\"\n",
    "text_chunks = load_and_chunk_docs(folder_path)\n",
    "\n",
    "print(f\"📄 Processed {len(text_chunks)} text chunks from {len(os.listdir(folder_path))} documents.\")"
   ]
  },
  {
   "cell_type": "code",
   "execution_count": 34,
   "metadata": {},
   "outputs": [
    {
     "name": "stdout",
     "output_type": "stream",
     "text": [
      "✅ Uploaded batch 1/5\n",
      "✅ Uploaded batch 2/5\n",
      "✅ Uploaded batch 3/5\n",
      "✅ Uploaded batch 4/5\n",
      "✅ Uploaded batch 5/5\n",
      "✅ Successfully upserted PDF content into Pinecone!\n"
     ]
    }
   ],
   "source": [
    "def extract_text_from_pdf(pdf_path):\n",
    "    \"\"\"Extracts text from a PDF file.\"\"\"\n",
    "    text = \"\"\n",
    "    with fitz.open(pdf_path) as doc:\n",
    "        for page in doc:\n",
    "            text += page.get_text(\"text\") + \"\\n\\n\"  # Extract text page by page\n",
    "    return text\n",
    "\n",
    "def chunk_text(text, chunk_size=1000, overlap=200):\n",
    "    \"\"\"Splits text into overlapping chunks.\"\"\"\n",
    "    tokens = text.split()\n",
    "    chunks = []\n",
    "    for i in range(0, len(tokens), chunk_size - overlap):\n",
    "        chunk = \" \".join(tokens[i:i + chunk_size])\n",
    "        chunks.append(chunk)\n",
    "    return chunks\n",
    "\n",
    "pdf_path = \"docs/32624-pdf.pdf\"\n",
    "\n",
    "# Extract and chunk text\n",
    "full_text = extract_text_from_pdf(pdf_path)\n",
    "text_chunks = chunk_text(full_text)\n",
    "\n",
    "documents = [{\"id\": str(i), \"text\": chunk} for i, chunk in enumerate(text_chunks)]\n",
    "\n",
    "# Upsert into Pinecone\n",
    "#index.upsert_records(records=documents, namespace=\"defualt\")\n",
    "\n",
    "# Upsert in batches of 50 to avoid API rate limits\n",
    "BATCH_SIZE = 50\n",
    "for i in range(0, len(documents), BATCH_SIZE):\n",
    "    batch = documents[i : i + BATCH_SIZE]\n",
    "    index.upsert_records(records=batch, namespace=\"default\")\n",
    "    \n",
    "    print(f\"✅ Uploaded batch {i//BATCH_SIZE + 1}/{(len(documents)//BATCH_SIZE) + 1}\")\n",
    "    \n",
    "    # Add a delay to prevent exceeding Pinecone's rate limit\n",
    "    time.sleep(10)  # Wait 10 seconds between batches\n",
    "\n",
    "\n",
    "print(\"✅ Successfully upserted PDF content into Pinecone!\")"
   ]
  },
  {
   "cell_type": "code",
   "execution_count": 53,
   "metadata": {},
   "outputs": [
    {
     "name": "stdout",
     "output_type": "stream",
     "text": [
      "🔹 Score: 0.4572366774082184\n",
      "📄 Text: The Project Gutenberg EBook of A History of Rome to 565 A. D. by Arthur Edward Romilly Boak This eBook is for the use of anyone anywhere at no cost and with almost no restrictions whatsoever. You may copy it, give it away or re-use it under the terms of the Project Gutenberg License included with this eBook or online at http://www.gutenberg.org/license Title: A History of Rome to 565 A. D. Author: Arthur Edward Romilly Boak Release Date: May 31, 2010 [Ebook 32624] Language: English ***START OF THE PROJECT GUTENBERG EBOOK A HISTORY OF ROME TO 565 A. D.*** A HISTORY OF ROME TO 565 A. D. BY ARTHUR E. R. BOAK, Ph. D., Professor of Ancient History in the University of Michigan v New York THE MACMILLAN COMPANY 1921 All rights reserved COPYRIGHT, 1921. By THE MACMILLAN COMPANY. Set up and electrotyped. Published December, 1921. vii PRINTED IN THE UNITED STATES OF AMERICA [v] PREFACE This sketch of the History of Rome to 565 A. D. is primarily intended to meet the needs of introductory college courses in Roman History. However, it is hoped that it may also prove of service as a handbook for students of Roman life and literature in general. It is with the latter in mind that I have added the bibliographical note. Naturally, within the brief limits of such a text, it was impossible to defend the point of view adopted on disputed points or to take notice of divergent opinions. Therefore, to show the great debt which I owe to the work of others, and to provide those interested in particular problems with some guide to more detailed study, I have given a list of selected references, which express, I believe, the prevailing views of modern scholarship upon the various phases of Roman History. I wish to acknowledge my general indebtedness to Professor W. S. Ferguson of Harvard University for his guidance in my approach to the study of Roman History, and also my particular obligations to Professor W. L. Westermann of Cornell, and to my colleagues, Professors A. L. Cross and J. G. Winter, for reading portions of my manuscript and for much helpful criticism. A. E. R. BOAK. University of Michigan, October, 1921 [vi] [vii] TABLE OF CONTENTS INTRODUCTION PAGE THE SOURCES FOR THE STUDY OF EARLY ROMAN HISTORY xiii PART I THE FORERUNNERS OF ROME IN ITALY CHAPTER I THE GEOGRAPHY OF ITALY 3 CHAPTER II PREHISTORIC CIVILIZATION IN ITALY 7 CHAPTER III THE PEOPLES OF HISTORIC ITALY 13 The Etruscans; the Greeks. PART II THE EARLY MONARCHY AND THE REPUB- LIC, FROM PREHISTORIC TIMES TO 27 B. C. CHAPTER IV EARLY ROME TO THE FALL OF THE MONARCHY 25 The Latins; the Origins of Rome; the Early Monarchy; Early Roman Society. CHAPTER V THE EXPANSION OF ROME TO THE UNIFICATION OF THE ITALIAN PENINSULA: C. 509–265 B. C. 33 To the Conquest of Veii, c. 392 B. C.; the Gallic Invasion; the Disruption of the Latin League and the Alliance of the Romans with the Campanians; Wars with the Samnites, Gauls and Etruscans; the Roman Conquest of South Italy; the Roman Confederacy. x A History of Rome to 565 A. D. CHAPTER VI THE CONSTITUTIONAL DEVELOPMENT OF ROME TO 287 B. C. 47 The Early Republic; the Assembly of the Centuries and the Develop- ment of the Magistracy; the Plebeian Struggle for Political Equality; the Roman Military System. CHAPTER VII RELIGION AND SOCIETY IN EARLY ROME 61 CHAPTER VIII ROMAN DOMINATION IN THE MEDITERRANEAN: THE FIRST PHASE—THE STRUGGLE WITH CARTHAGE, 265–201 B. C. 67 The Mediterranean World in 265 B. C.; the First Punic War; the Illyrian and Gallic Wars; the Second Punic War; the Effect of the Second Punic War upon Italy. CHAPTER IX ROMAN DOMINATION IN THE MEDITERRANEAN: THE SECOND PHASE—ROME AND THE GREEK EAST 89 The Second Macedonian War; the War with Antiochus the Great and the Ætolians; the Third Macedonian War; Campaigns in Italy and Spain. CHAPTER X TERRITORIAL EXPANSION IN THREE CONTINENTS: 167–133 B. C. 99 The Spanish Wars; the Destruction of Carthage; War with Macedonia and the Achæan Confederacy; the Acquisition of Asia. CHAPTER XI THE ROMAN STATE AND THE EMPIRE: 265–133 B. C. 105 The Rule of the Senatorial Aristocracy; the Administration of the Provinces; Social and Economic Development; Cultural Progress. CHAPTER XII THE STRUGGLE OF THE OPTIMATES AND THE POPULARES: 133–78 B. C. 125 TABLE OF CONTENTS xi The Agrarian Laws of Tiberius Gracchus; the Tribunate of Caius Gracchus; the War with Jugurtha and the Rise of Marius; the Cimbri and the Teutons; Saturninus and Glaucia; the Tribunate of Marcus Livius Drusus; the Italian or Marsic War; the First Mithridatic War; Sulla’s Dictatorship. CHAPTER XIII THE RISE OF POMPEY THE GREAT: 78–59 B. C. 151 Pompey’s Command against Sertorius in Spain; the Command of Lucullus against Mithridates; the Revolt of the Gladiators; the Con- sulate of Pompey and Crassus; the Commands of Pompey against the Pirates and in the East; the Conspiracy of Cataline; the Coalition of Pompey, Cæsar and Crassus. CHAPTER XIV THE RIVALRY OF POMPEY AND CAESAR: CAESAR’S DICTATORSHIP: 59–44 B. C. 166 Cæsar, Consul; Cæsar’s Conquest of Gaul; the Civil War between Cæsar and the Senate; the Dictatorship of Julius Cæsar. CHAPTER XV THE PASSING OF THE REPUBLIC: 44–27 B. C. 185 The Rise of Octavian; the Triumvirate of 43 B. C.; the victory of Octavian over Antony and Cleopatra; Society and Intellectual Life in the Last Century of the Republic. PART III THE PRINCIPATE OR EARLY EMPIRE: 27 B. C.–285 A. D. CHAPTER XVI THE ESTABLISHMENT OF THE PRINCIPATE: 27 B. C.–14 A. D. 205 The Princeps; the Senate, the Equestrians and the Plebs; the Military Establishment; the Revival of Religion and Morality; the Provinces and the Frontiers; the Administration of Rome; the Problem of the Succession; Augustus as a Statesman. CHAPTER XVII xii A History of Rome to 565 A. D. THE JULIO-CLAUDIAN LINE AND THE FLAVIANS: 14–96 A. D. 226 Tiberius; Caius Caligula; Claudius; Nero;\n",
      "\n",
      "🔹 Score: 0.3913179337978363\n",
      "📄 Text: Their material they obtained by invention, by falsification, and by the incorporation into Roman history of incidents from the history of other peoples. These writers were not strictly historians, but writers of historical romance. Their chief representative was Valerius Antias. The Ciceronian age saw great vigor displayed in antiquarian research, with the object of explaining the origin of ancient Roman customs, ceremonies, institutions, monuments, and legal formulæ, and of establishing early Roman chronology. In this field the greatest activity was shown by Marcus Terentius Varro, whose Antiquities deeply influenced his contemporaries and successors. In the age of Augustus, between 27 B. C. and 19 A. D., Livy wrote his great history of Rome from its beginnings. His work summed up the efforts of his predecessors and gave to the history of Rome down to his own times the form which it preserved for the rest of antiquity. Although it is lacking in critical acumen in the handling of sources, and in an understanding for political and military history, the dramatic and literary qualities of his work have ensured its popularity. Of it there have been preserved the first ten books (to 293 B. C.), and books 21 to 45 (from 218 to 167 [xvi] B. C.). A contemporary of Livy was the Greek writer Dionysius of Halicarnassus, who wrote a work called Roman Antiquities, which covered the history of Rome down to 265 B. C. The earlier part of his work has also been preserved. In general he depended upon Varro and Livy, and gives substantially the same view of early Roman history as the latter. What these later writers added to the meagre annalistic narrative preserved in Diodorus is of little historical value, except in so far as it shows what the Romans came to believe with regard to their own past. The problem which faced the later Roman historians was the one which faces writers of Roman history today, namely, to explain the origins and early development of INTRODUCTION xix the Roman state. And their explanation does not deserve more credence than a modern reconstruction simply because they were nearer in point of time to the period in question, for they had no wealth of historical materials which have since been lost, and they were not animated by a desire to reach the truth at all costs nor guided by rational principles of historical criticism. Accordingly we must regard as mythical the traditional narrative of the founding of Rome and of the regal period, and for the history of the republic to the time of the war with Pyrrhus we should rely upon the list of eponymous magistrates, whose variations indicate political crises, supplemented by the account in Diodorus, with the admission that this itself is not infallible. All that supplements or deviates from this we should frankly acknowledge to be of a hypothetical nature. Therefore we should concede the impossibility of giving a complete and adequate account of the history of these centuries and refrain from doing ourselves what we criticize in the Roman historians. [1] PART I THE FORERUNNERS OF ROME IN ITALY [2] [3] A HISTORY OF ROME TO 565 A. D. CHAPTER I THE GEOGRAPHY OF ITALY Italy, ribbed by the Apennines, girdled by the Alps and the sea, juts out like a “long pier-head” from Europe towards the northern coast of Africa. It includes two regions of widely differing physical characteristics: the northern, continental; the southern, peninsular. The peninsula is slightly larger than the continental portion: together their area is about 91,200 square miles. Continental Italy. The continental portion of Italy consists of the southern watershed of the Alps and the northern watershed of the Apennines, with the intervening lowland plain, drained, for the most part, by the river Po and its numerous tributaries. On the north, the Alps extend in an irregular crescent of over 1200 miles from the Mediterranean to the Adriatic. They rise abruptly on the Italian side, but their northern slope is gradual, with easy passes leading over the divide to the southern plain. Thus they invite rather than deter immigration from central Europe. East and west continental Italy measures around 320 miles; its width from north to south does not exceed seventy miles. The peninsula. The southern portion of Italy consists of a long, narrow peninsula, running northwest and southeast between the Mediterranean and Adriatic seas, and terminating in two promontories, which form the toe and heel of the “Italian boot.” The length of the peninsula is 650 miles; its breadth is nowhere 4 A History of Rome to 565 A. D. more than 125 miles. In striking contrast to the plains of the Po, southern Italy is traversed throughout by the parallel ridges of the Apennines, which give it an endless diversity of hill and valley. The average height of these mountains, which form a sort of vertebrate system for the peninsula (Apennino dorso Italia dividitur, Livy xxxvi, 15), is about 4,000 feet, and even their highest peaks (9,500 feet) are below the line of perpetual [4] snow. The Apennine chain is highest on its eastern side where it approaches closely to the Adriatic, leaving only a narrow strip of coast land, intersected by numerous short mountain torrents. On the west the mountains are lower and recede further from the sea, leaving the wide lowland areas of Etruria, Latium and Campania. On this side, too, are rivers of considerable length, navigable for small craft; the Volturnus and Liris, the Tiber and the Arno, whose valleys link the coast with the highlands of the interior. The coast-line. In comparison with Greece, Italy presents a striking regularity of coast-line. Throughout its length of over 2000 miles it has remarkably few deep bays or good harbors, and these few are almost all on the southern and western shores. Thus the character of the Mediterranean coast of Italy, with its fertile lowlands, its rivers, its harbors, and its general southerly aspect, rendered it more inviting and accessible to approach from the\n",
      "\n",
      "🔹 Score: 0.35912230610847473\n",
      "📄 Text: Etruscans, 298–80 B. C. In 298 war broke out again between the Romans and Samnites, apparently because the Lucanians had deserted the Roman alliance for the Samnites. Soon the Samnites allied themselves with the Etruscans and Gauls, and succeeded in uniting the forces of the three peoples in Umbria. But this 44 A History of Rome to 565 A. D. host was annihilated by the Romans in the battle of Sentinum (295). With this victory all danger for Rome was over. By systematically ravaging the enemy’s country the Roman consuls in 290 B. C. forced the Samnites to sue for peace. They entered the Roman alliance, and a portion of their land was incorporated in the ager publicus of Rome. A similar fate overtook the Sabines and Picentes, who had taken sides with the Samnites. The war with the Etruscans and the Gauls still dragged on. But in 285, after suffering a severe blow at the hands of the Gallic Senones, the Romans took vigorous action and drove this people from the land between Ancona and the Rubicon—the ager Gallicus. In the same year the tribe of the Boii, with Etruscan allies, penetrated as far as the Vadimonian Lake, where the Romans inflicted upon them a crushing defeat. Another Roman victory in the next year brought the Boii to terms, and soon the Etruscan cities one by one submitted to Rome, until by 280 all were Roman allies. V. THE ROMAN CONQUEST OF SOUTH ITALY: 281–270 B. C. Italians and Greeks in South Italy. The only parts of the peninsula that had not yet acknowledged the Roman overlordship were the lands of the Lucanians and Bruttians and the few Greek cities in the south that still maintained their independence. Of these latter the chief was Tarentum, a city of considerable commercial importance. From the middle of the fourth century these cities had been engaged in continual warfare with the Lucanians and Messapians, and in the course of their struggles [40] Tarentum had come to assume the rôle of protector of the Hellenes in Italy. But even this city had only been able to make head against its foes through assistance obtained from Greece. In 338, King Archidamus of Sparta, and in 331 Alexander, king of Epirus and uncle of Alexander the Great, fell fighting in the service of V. THE ROMAN CONQUEST OF SOUTH ITALY: 281–270 B. C. 45 the Italian Greeks. In 303, Cleonymus of Sparta, more fortunate than his predecessors, compelled the Lucanians to conclude a peace, which probably included the Romans, at that moment their allies. A little later (c. 300 B. C.) Agathocles, king of Syracuse, assisted the Tarentines against the same foe, and incorporated in his own kingdom the Bruttians and the Greek cities in the southwest. But with his death in 289, his kingdom, like that of Dionysius I, fell apart and the Greeks in the west were left again without a protector. Consequently, when the Lucanians renewed their attacks upon Thurii, that city, being unable to find succor in Greece and distrusting Tarentum, appealed to Rome (282). Rome gave ear to the call, relieved and garrisoned Thurii. But this action brought Roman ships of war into the Gulf of Tarentum contrary to an agreement between the two cities (perhaps that of 303). Enraged, the Tarentines attacked the Roman fleet, sank some Roman triremes, and then occupied Thurii. The ensuing Roman demands for reparation were rejected, their ambassadors insulted, and war began (281). The war with Pyrrhus and Tarentum. The Tarentines were able to unite against Rome the Messapians, Lucanians, Samnites and Bruttians, but Roman successes in the first campaign forced them to call in the aid of Pyrrhus, king of Epirus. Pyrrhus was probably the most skilful Greek general of the time, and he brought with him into Italy an army organized and equipped according to the Macedonian system of Alexander the Great, which had become the standard in the Greek world. His force comprised 20,000 heavy-armed infantry forming the phalanx, and 3,000 Thessalian cavalry. Besides, he had a number of war elephants; animals which had figured on Greek battlefields since Ipsus (301). The first engagement was fought near Heraclea (280) and after a severe struggle the Romans were driven from the field. The superior generalship of Pyrrhus, and the consternation caused by his war elephants, won the day, but his losses were very heavy, and he himself was wounded. As fighters the Romans had shown 46 A History of Rome to 565 A. D. themselves the equal of the foe, and their tactical organization, [41] perfected in the Samnite Wars, had proved its value in its first encounter with that developed by the military experts of Greece. As a result of his victory at Heraclea, Pyrrhus was able to advance as far north as Latium, but withdrew again without accomplishing anything of importance. The next year, he won another hard- fought battle near Ausculum in Apulia. Thereupon the Romans began negotiations which Pyrrhus welcomed, sending the orator Cineas to Rome to represent him. But, before an agreement was reached, the Carthaginians, who feared the intervention of Pyrrhus in Sicily, offered the Romans assistance. Their proffer was accepted; the negotiations with Pyrrhus ended; and Rome and Carthage bound themselves not to make a separate agreement with the common foe, while the Carthaginian fleet was to coöperate with the Romans. Pyrrhus in Sicily, 278–5 B. C. Nevertheless, Pyrrhus determined to answer an appeal from the Sicilian Greeks and to leave Italy for Sicily. After the death of Agathocles, tyrant and king of Syracuse (317–289), who had played the rôle of another Dionysius I, the Greeks in Sicily had fallen upon evil days. The Carthaginians had renewed their attacks upon them, and a new foe had appeared in the Mamertini, Campanian mercenary soldiers who had seized Messana and made it their headquarters for raiding the territory of the Greek cities. Caught between these two enemies, the Greeks appealed to Pyrrhus who came to their aid,\n",
      "\n",
      "🔹 Score: 0.35739603638648987\n",
      "📄 Text: north as Latium, but withdrew again without accomplishing anything of importance. The next year, he won another hard- fought battle near Ausculum in Apulia. Thereupon the Romans began negotiations which Pyrrhus welcomed, sending the orator Cineas to Rome to represent him. But, before an agreement was reached, the Carthaginians, who feared the intervention of Pyrrhus in Sicily, offered the Romans assistance. Their proffer was accepted; the negotiations with Pyrrhus ended; and Rome and Carthage bound themselves not to make a separate agreement with the common foe, while the Carthaginian fleet was to coöperate with the Romans. Pyrrhus in Sicily, 278–5 B. C. Nevertheless, Pyrrhus determined to answer an appeal from the Sicilian Greeks and to leave Italy for Sicily. After the death of Agathocles, tyrant and king of Syracuse (317–289), who had played the rôle of another Dionysius I, the Greeks in Sicily had fallen upon evil days. The Carthaginians had renewed their attacks upon them, and a new foe had appeared in the Mamertini, Campanian mercenary soldiers who had seized Messana and made it their headquarters for raiding the territory of the Greek cities. Caught between these two enemies, the Greeks appealed to Pyrrhus who came to their aid, possibly with the hope of uniting Sicily under his own control. His success was immediate. The Carthaginians were forced to give up all their possessions except Lilybaeum, and Pyrrhus stood ready to carry the war into Africa. But, at this juncture, the exactions that he laid upon his Sicilian allies and their fear that his victory would make him their permanent master caused them to desert his cause and make peace with their foes. Deprived of their assistance, and seeing that his allies in Italy were hard pressed by the Romans, he abandoned his Sicilian VI. THE ROMAN CONFEDERACY 47 venture. The end of the war. Pyrrhus returned to Italy, with the loss of his fleet in a naval battle with the Carthaginians, reorganized his forces, and advanced into Lucania or Samnium to meet the Romans. While manœuvering for an attack, one of his divisions sustained a severe repulse at Beneventum (275), whereupon he abandoned the offensive and retired to Tarentum. Leaving a garrison in that city he withdrew the rest of his forces to Greece, [42] with the intention of attacking Antigonus Gonatas in Macedonia. His initial successes in this enterprise led him to withdraw his garrison from Tarentum and abandon the Western Greeks to their fate. Thereupon the Romans soon reduced the Samnites and Lucanians, while Tarentum and the other Greek cities, one after another, were forced to submit and enter the Roman alliance. By 270 B. C., all South Italy had in this way been added to the Roman dominions. By 265 B. C. after a few more brief struggles with revolting or still unsubdued communities in central and northern Italy, the Romans had completed the subjugation of the entire Italian peninsula. VI. THE ROMAN CONFEDERACY Roman foreign policy. By wars and alliances Rome had united Italy. But it is not to be supposed that this was a goal consistently pursued through many generations by Roman statesmen. Probably it was not until the end was nearly within sight that the Romans realized whither their policy was leading them. Indeed, it is certain that many of Rome’s wars were waged in defence of Rome’s territory or that of the Roman allies. This seems particularly true of the period prior to the Gallic inroad of 387. According to the ancient Roman formula employed in declaring war, that uttered by the Fetiales, war was looked 48 A History of Rome to 565 A. D. upon as the last means to obtain reparation for wrongs that were suffered at the hands of the enemy. Yet, although the Roman attitude in such matters was doubtless at one time sincere, we may well question how long this sincerity continued, and whether the injuries complained of were not sometimes the result of Roman provocation. Such attempts to place the moral responsibility for a war upon the enemy are common to all ages and are not always convincing. However, if we may not convict the Romans of aggressive imperialism prior to 265, at any rate the methods which they pursued in their relations with the other peoples of Italy made their domination inevitable in view of the Roman national character and their political and military organization. These methods early became established maxims of Roman foreign policy. The Romans, whenever possible, waged even their defensive wars offensively, and rarely made peace save with a beaten foe. As a rule, the enemy was forced to conclude a treaty with Rome which placed his forces at the disposal of the Roman [43] state. This treaty was regarded as perpetually binding, and any attempt to break off the relationship it established was regarded as a casus belli. Possibly, the Romans looked upon this as the only policy which would guarantee peace on their borders, but it inevitably led to further wars, for it resulted in the continuous extension of the frontiers defended by Rome and so continually brought Rome into contact and conflict with new peoples. Nor were the voluntary allies of Rome allowed to leave the Roman alliance: such action was treated as equivalent to a declaration of war and regularly punished with severity. This practice gradually transformed Rome’s independent into dependent allies. From the middle of the fourth century, it seems that Rome deliberately sought to prevent the development of a strong state in the southern part of Italy, and to this end gladly took under her protection weaker communities that felt themselves threatened by stronger neighbors, although such action inevitably led to war with the latter. Furthermore, a conquered state frequently lost a VI. THE ROMAN CONFEDERACY 49 considerable part of its territory. Portions of this land were set aside for the foundation of fortress colonies to protect the Roman conquests and overawe the conquered. The rest was incorporated in the ager Romanus to the profit\n",
      "\n",
      "🔹 Score: 0.35627222061157227\n",
      "📄 Text: the Command of Lucullus against Mithridates; the Revolt of the Gladiators; the Con- sulate of Pompey and Crassus; the Commands of Pompey against the Pirates and in the East; the Conspiracy of Cataline; the Coalition of Pompey, Cæsar and Crassus. CHAPTER XIV THE RIVALRY OF POMPEY AND CAESAR: CAESAR’S DICTATORSHIP: 59–44 B. C. 166 Cæsar, Consul; Cæsar’s Conquest of Gaul; the Civil War between Cæsar and the Senate; the Dictatorship of Julius Cæsar. CHAPTER XV THE PASSING OF THE REPUBLIC: 44–27 B. C. 185 The Rise of Octavian; the Triumvirate of 43 B. C.; the victory of Octavian over Antony and Cleopatra; Society and Intellectual Life in the Last Century of the Republic. PART III THE PRINCIPATE OR EARLY EMPIRE: 27 B. C.–285 A. D. CHAPTER XVI THE ESTABLISHMENT OF THE PRINCIPATE: 27 B. C.–14 A. D. 205 The Princeps; the Senate, the Equestrians and the Plebs; the Military Establishment; the Revival of Religion and Morality; the Provinces and the Frontiers; the Administration of Rome; the Problem of the Succession; Augustus as a Statesman. CHAPTER XVII xii A History of Rome to 565 A. D. THE JULIO-CLAUDIAN LINE AND THE FLAVIANS: 14–96 A. D. 226 Tiberius; Caius Caligula; Claudius; Nero; the First War of the Legions or the Year of the Four Emperors; Vespasian and Titus; Domitian. CHAPTER XVIII FROM NERVA TO DIOCLETIAN: 96–285 A. D. 244 Nerva and Trajan; Hadrian; the Antonines; the Second War of the Legions; the Dynasty of the Severi; the Dissolution and Restoration of the Empire. CHAPTER XIX THE PUBLIC ADMINISTRATION UNDER THE PRINCIPATE 264 The Victory of Autocracy; the Growth of the Civil Service; the Army and the Defence of the Frontiers; the Provinces under the Principate; Municipal Life; the Colonate or Serfdom. CHAPTER XX RELIGION AND SOCIETY 293 Society under the Principate; the Intellectual World; the Imperial Cult and the Oriental Religions in Roman Paganism; Christianity and the Roman State. PART IV THE AUTOCRACY OR LATE EMPIRE: 285–565 A. D. CHAPTER XXI FROM DIOCLETIAN TO THEODOSIUS THE GREAT: THE INTEGRITY OF THE EMPIRE MAINTAINED: 285–395 A. D. 317 Diocletian; Constantine I, the Great; the Dynasty of Constantine; the House of Valentinian and Theodosius the Great. CHAPTER XXII THE PUBLIC ADMINISTRATION OF THE LATE EMPIRE 333 The Autocrat and his Court; the Military Organization; the Perfection of the Bureaucracy; the Nobility and the Senate; the System of Taxation and the Ruin of the Municipalities. CHAPTER XXIII TABLE OF CONTENTS xiii THE GERMANIC OCCUPATION OF ITALY AND THE WESTERN PROVINCES: 395–493 A. D. 351 General Characteristics of the Period; the Visigothic Migrations; the Vandals; the Burgundians, Franks and Saxons; the Fall of the Empire in the West; the Survival of the Empire in the East. CHAPTER XXIV THE AGE OF JUSTINIAN: 518–565 A. D. 369 The Germanic Kingdoms in the West to 533 A. D.; the Restoration of the Imperial Power in the West; Justinian’s Frontier Problems and Internal Administration. CHAPTER XXV RELIGIOUS AND INTELLECTUAL LIFE IN THE LATE EMPIRE 385 The End of Paganism; the Church in the Christian Empire; Sectarian Strife; Monasticism; Literature and Art. EPILOGUE 403 CHRONOLOGICAL TABLE 405 BIBLIOGRAPHICAL NOTE 415 INDEX 423 [xi] LIST OF MAPS The Roman Empire in the Second Century A. D. Frontispiece PAGE The Peoples of Italy about 500 B. C. 14 The Environs of Rome 24 Roman Expansion in Italy to 265 B. C. 32 The Expansion of Rome in the Mediterranean World 265–44 B. C. 68 The Roman Empire from 31 B. C. to 300 A. D. 204 The Roman Empire in 395 A. D. 332 The Roman Empire and the Germanic King- doms in 526 A. D. 368 The Roman Empire in 565 A. D. 380 [xii] [xiii] INTRODUCTION THE SOURCES FOR THE STUDY OF EARLY ROMAN HISTORY The student beginning the study of Roman History through the medium of the works of modern writers cannot fail to note wide differences in the treatment accorded by them to the early centuries of the life of the Roman State. These differences are mainly due to differences of opinion among moderns as to the credibility of the ancient accounts of this period. And so it will perhaps prove helpful to give a brief review of these sources, and to indicate the estimate of their value which is reflected in this book. The earliest Roman historical records were in the form of annals, that is, brief notices of important events in connection with the names of the consuls or other eponymous officials for each year. They may be compared to the early monastic chronicles of the Middle Ages. Writing was practised in Rome as early as the sixth century B. C. and there can be no doubt that the names of consuls or their substitutes were recorded from the early years of the republic, although the form of the record is unknown. It is in the annals that the oldest list of the consuls was preserved, the Capitoline consular and triumphal Fasti or lists being reconstructions of the time of Augustus. The authorship of the earliest annals is not recorded. However, at the opening of the second century B. C. the Roman pontiffs had in their custody annals which purported to run back to the xvi A History of Rome to 565 A. D. foundation of the city, including the regal period. We know also that as late as the time of the Gracchi it was customary for the Pontifex Maximus to record on a tablet for public inspection the chief events of each year. When this custom began is uncertain and it can only be proven for the time when the Romans had commenced to undertake maritime wars. From these pontifical records were compiled the so-called annales Maximi, or chief [xiv] annals, whose name permits the belief that briefer compilations were also in existence. There were likewise commentaries preserved in the priestly colleges, which contained ritualistic formulæ, as well as attempted explanations of the origins of usages and ceremonies. Apart from these annals and commentaries\n",
      "\n"
     ]
    }
   ],
   "source": [
    "def search_pinecone(query_text, top_k=5):\n",
    "    \"\"\"Search Pinecone using Integrated Inference (automatic embeddings).\"\"\"\n",
    "    \n",
    "    ranked_results = index.search_records(\n",
    "        namespace=\"default\", \n",
    "        query={\n",
    "            \"inputs\": {\"text\": query_text},  # Pinecone automatically embeds this\n",
    "            \"top_k\": top_k \n",
    "        },\n",
    "        # rerank={\n",
    "        #     \"model\": \"bge-reranker-v2-m3\",  # Uses reranking for better results\n",
    "        #     \"top_n\": 3,  # Number of top-ranked results after reranking\n",
    "        #     \"rank_fields\": [\"text\"]  # Ensure we rerank based on text field\n",
    "        # },\n",
    "        fields=[\"text\"]  # Retrieve the text field from results\n",
    "    )\n",
    "    \n",
    "    return ranked_results\n",
    "\n",
    "# Example usage\n",
    "query_text = \"Who were the main figures in THE EXPANSION OF ROME TO THE UNIFICATION OF THE ITALIAN PENINSULA in 265 B. C.\"\n",
    "results = search_pinecone(query_text)\n",
    "\n",
    "#print(results)\n",
    "\n",
    "for result in results[\"result\"][\"hits\"]:\n",
    "    print(f\"🔹 Score: {result['_score']}\")\n",
    "    print(f\"📄 Text: {result['fields']['text']}\\n\")\n"
   ]
  },
  {
   "cell_type": "code",
   "execution_count": 33,
   "metadata": {},
   "outputs": [
    {
     "name": "stdout",
     "output_type": "stream",
     "text": [
      "✅ All documents deleted from Pinecone!\n"
     ]
    }
   ],
   "source": [
    "index.delete(namespace=\"default\", delete_all=True)\n",
    "print(\"✅ All documents deleted from Pinecone!\")"
   ]
  },
  {
   "cell_type": "code",
   "execution_count": 57,
   "metadata": {},
   "outputs": [],
   "source": [
    "def answer_question_with_chatgpt(question):\n",
    "    \"\"\"Retrieves relevant text from Pinecone and generates an answer with ChatGPT.\"\"\"\n",
    "\n",
    "    # Retrieve context from Pinecone\n",
    "    search_results = search_pinecone(question)\n",
    "\n",
    "    # Extract relevant text chunks\n",
    "    context = \"\\n\\n\".join([result[\"fields\"][\"text\"] for result in search_results[\"result\"][\"hits\"]])\n",
    "\n",
    "    # Construct the prompt for ChatGPT\n",
    "    prompt = f\"\"\"\n",
    "    Based on the following information, which was extracted from a History book pdf but retrieved using embeddings, answer the question:\n",
    "\n",
    "    {context}\n",
    "\n",
    "    Question: {question}\n",
    "    Answer:\n",
    "    \"\"\"\n",
    "\n",
    "    client = openai.OpenAI()\n",
    "    response = client.chat.completions.create(\n",
    "        model=\"gpt-4\",\n",
    "        messages=[{\"role\": \"system\", \"content\": \"You are an intelligent assistant who will get history info and try to explain it in a comprehensible way.\"},\n",
    "                  {\"role\": \"user\", \"content\": prompt}]\n",
    "    )\n",
    "\n",
    "    return response.choices[0].message.content.strip()\n"
   ]
  },
  {
   "cell_type": "code",
   "execution_count": 58,
   "metadata": {},
   "outputs": [
    {
     "name": "stdout",
     "output_type": "stream",
     "text": [
      "🤖 Answer: The main figures in the expansion of Rome to the unification of the Italian Peninsula in 265 B.C. are not explicitly mentioned in the extracted text. However, based on the timeline mentioned, Roman consuls would have played a major role in its expansion during this period. The text does reference particular regions (Such as the Etruscans, Latins, and the Greeks) and groups (like the Latin League, Samnites, Gauls, and Etruscans), indicating the interactions Rome had with them during its expansion, but specific individuals are not named.\n"
     ]
    }
   ],
   "source": [
    "question = \"Who were the main figures in THE EXPANSION OF ROME TO THE UNIFICATION OF THE ITALIAN PENINSULA in 265 B. C.?\"\n",
    "answer = answer_question_with_chatgpt(question)\n",
    "print(\"🤖 Answer:\", answer)"
   ]
  }
 ],
 "metadata": {
  "kernelspec": {
   "display_name": "Python 3",
   "language": "python",
   "name": "python3"
  },
  "language_info": {
   "codemirror_mode": {
    "name": "ipython",
    "version": 3
   },
   "file_extension": ".py",
   "mimetype": "text/x-python",
   "name": "python",
   "nbconvert_exporter": "python",
   "pygments_lexer": "ipython3",
   "version": "3.10.5"
  }
 },
 "nbformat": 4,
 "nbformat_minor": 2
}
